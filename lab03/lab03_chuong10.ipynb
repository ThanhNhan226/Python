{
  "nbformat": 4,
  "nbformat_minor": 0,
  "metadata": {
    "colab": {
      "name": "lab03_chuong10.ipynb",
      "provenance": [],
      "collapsed_sections": [],
      "authorship_tag": "ABX9TyPnNnn0BNkfL1kH0y54kbTD",
      "include_colab_link": true
    },
    "kernelspec": {
      "name": "python3",
      "display_name": "Python 3"
    },
    "language_info": {
      "name": "python"
    }
  },
  "cells": [
    {
      "cell_type": "markdown",
      "metadata": {
        "id": "view-in-github",
        "colab_type": "text"
      },
      "source": [
        "<a href=\"https://colab.research.google.com/github/ThanhNhan226/Python/blob/main/lab03/lab03_chuong10.ipynb\" target=\"_parent\"><img src=\"https://colab.research.google.com/assets/colab-badge.svg\" alt=\"Open In Colab\"/></a>"
      ]
    },
    {
      "cell_type": "markdown",
      "metadata": {
        "id": "g8feItsrXsfq"
      },
      "source": [
        "Chương 10"
      ]
    },
    {
      "cell_type": "code",
      "metadata": {
        "id": "Jx_L5Vc0RM7B"
      },
      "source": [
        "from google.colab import drive\n",
        "drive.mount('/content/drive')"
      ],
      "execution_count": null,
      "outputs": []
    },
    {
      "cell_type": "code",
      "metadata": {
        "id": "TowY3sDqW10Y"
      },
      "source": [
        "#bài 1\n",
        "filename = input('Which file would you like to back-up? ')\n",
        "new_filename = filename + '.bak'\n",
        "backup = open(new_filename, 'w')\n",
        "for line in open(filename):\n",
        " backup.write(line)\n",
        "backup.close()"
      ],
      "execution_count": null,
      "outputs": []
    },
    {
      "cell_type": "code",
      "metadata": {
        "id": "dLcTGq8xW37m"
      },
      "source": [
        "#bai2\n",
        "alkaline_metals = []\n",
        "for line in open('alkaline_metals.txt'):\n",
        " alkaline_metals.append(line.strip().split(' '))"
      ],
      "execution_count": null,
      "outputs": []
    },
    {
      "cell_type": "code",
      "metadata": {
        "id": "L60JO3U-W35N"
      },
      "source": [
        "#Bài 3\n",
        "content = []\n",
        "for line in open('tanlinh.txt'):\n",
        "    content.append(line)\n",
        "print('Doc nguoc file :\\n ',)\n",
        "for line in reversed(content):\n",
        "    print(line)"
      ],
      "execution_count": null,
      "outputs": []
    },
    {
      "cell_type": "code",
      "metadata": {
        "id": "rgJJ97ZlW3zk"
      },
      "source": [
        "#Bài 4\n",
        "def process_file(reader):\n",
        " \"\"\" (file open for reading) -> NoneType\n",
        " Read and print the data from reader, which must start with a single\n",
        " description line, then a sequence of lines beginning with '#', then a\n",
        " sequence of data.\n",
        " \"\"\" \n",
        " # Find and print the first piece of data.\n",
        " line = skip_header(reader).strip()\n",
        " print(line)\n",
        " # Read the rest of the data.\n",
        " print(reader.read())"
      ],
      "execution_count": null,
      "outputs": []
    },
    {
      "cell_type": "code",
      "metadata": {
        "id": "Z-XV5q2MW3qM"
      },
      "source": [
        ""
      ],
      "execution_count": null,
      "outputs": []
    }
  ]
}