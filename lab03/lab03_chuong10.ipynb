{
  "nbformat": 4,
  "nbformat_minor": 0,
  "metadata": {
    "colab": {
      "name": "lab03_chuong10.ipynb",
      "provenance": [],
      "collapsed_sections": [],
      "authorship_tag": "ABX9TyPbLdwLqR1622qd2Ra7z9dY",
      "include_colab_link": true
    },
    "kernelspec": {
      "name": "python3",
      "display_name": "Python 3"
    },
    "language_info": {
      "name": "python"
    }
  },
  "cells": [
    {
      "cell_type": "markdown",
      "metadata": {
        "id": "view-in-github",
        "colab_type": "text"
      },
      "source": [
        "<a href=\"https://colab.research.google.com/github/ThanhNhan226/Python/blob/main/lab03/lab03_chuong10.ipynb\" target=\"_parent\"><img src=\"https://colab.research.google.com/assets/colab-badge.svg\" alt=\"Open In Colab\"/></a>"
      ]
    },
    {
      "cell_type": "markdown",
      "metadata": {
        "id": "g8feItsrXsfq"
      },
      "source": [
        "Chương 10"
      ]
    },
    {
      "cell_type": "code",
      "metadata": {
        "id": "TowY3sDqW10Y"
      },
      "source": [
        "#bài 1\n",
        "filename = input('Which file would you like to back-up? ')\n",
        "new_filename = filename + '.bak'\n",
        "backup = open(new_filename, 'w')\n",
        "for line in open(filename):\n",
        " backup.write(line)\n",
        "backup.close()"
      ],
      "execution_count": null,
      "outputs": []
    },
    {
      "cell_type": "code",
      "metadata": {
        "id": "dLcTGq8xW37m"
      },
      "source": [
        "#bai2\n",
        "alkaline_metals = []\n",
        "for line in open('alkaline_metals.txt'):\n",
        " alkaline_metals.append(line.strip().split(' '))"
      ],
      "execution_count": null,
      "outputs": []
    },
    {
      "cell_type": "code",
      "metadata": {
        "id": "L60JO3U-W35N"
      },
      "source": [
        "#Bài 3\n",
        "content = []\n",
        "for line in open('thanhnhan.txt'):\n",
        "    content.append(line)\n",
        "print('Doc nguoc file :\\n ',)\n",
        "for line in reversed(content):\n",
        "    print(line)"
      ],
      "execution_count": null,
      "outputs": []
    },
    {
      "cell_type": "code",
      "metadata": {
        "id": "rgJJ97ZlW3zk"
      },
      "source": [
        "#Bài 4\n",
        "def skip_header(reader):\n",
        "    \n",
        "    line = reader.readline()    \n",
        "    line = reader.readline()\n",
        "    while line.startswith('#'):\n",
        "        line = reader.readline() \n",
        "    return line\n",
        "\n",
        "def process_file(reader):\n",
        "    line = skip_header(reader).strip()\n",
        "    print(line)\n",
        "    for line in reader:\n",
        "        line = line.strip()\n",
        "        print(line)\n",
        "\n",
        "input_file = open('thanhnhan.txt', 'r')\n",
        "process_file(input_file)\n",
        "input_file.close()"
      ],
      "execution_count": null,
      "outputs": []
    },
    {
      "cell_type": "code",
      "metadata": {
        "id": "Z-XV5q2MW3qM"
      },
      "source": [
        "#Bài 5\n",
        "def smallest_value_skip(reader):\n",
        "    line = skip_header(reader).strip()\n",
        "    # Only execute this code, if there is data following the header.\n",
        "    if line != '':\n",
        "        smallest = line\n",
        "    for line in reader:\n",
        "        line = line.strip()\n",
        "        if line != '-':\n",
        "            value = line\n",
        "            smallest = min(smallest, value)\n",
        "    return smallest\n",
        "\n",
        "input_file = open('thanhnhan.txt', 'r')\n",
        "print(smallest_value_skip(input_file))\n",
        "input_file.close()"
      ],
      "execution_count": null,
      "outputs": []
    },
    {
      "cell_type": "code",
      "metadata": {
        "id": "pWyo-5Mu0Kio"
      },
      "source": [
        "#Bài 6\n",
        "def smallest_value_skip2(reader):\n",
        "    line = skip_header(reader).strip()\n",
        "    # Now line contains the first data value; this is also the smallest value\n",
        "    # found so far, because it is the only one we have seen.\n",
        "    smallest = line\n",
        "\n",
        "    for line in reader: \n",
        "        line = line.strip()\n",
        "        if line == '-':\n",
        "            continue\n",
        "\n",
        "    value = line\n",
        "    smallest = min(smallest, value)\n",
        "\n",
        "    return smallest\n",
        "\n",
        "input_file = open('thanhnhan.txt', 'r')\n",
        "print(smallest_value_skip2(input_file))\n",
        "input_file.close()"
      ],
      "execution_count": null,
      "outputs": []
    },
    {
      "cell_type": "code",
      "metadata": {
        "id": "BjdgHFGr0Kgn"
      },
      "source": [
        "#Bài 7\n",
        "def read_molecule(reader):\n",
        "    content = []\n",
        "    for line in reader:\n",
        "        if not line.startswith('CMNT'):\n",
        "            if not line.isspace():\n",
        "                content.append(line.strip())\n",
        "    for line in content:\n",
        "        print(line)\n",
        "    \n",
        "input_file = open('thanhnhan.pdb', 'r')\n",
        "print(read_molecule(input_file))\n",
        "input_file.close()"
      ],
      "execution_count": null,
      "outputs": []
    },
    {
      "cell_type": "code",
      "metadata": {
        "id": "Nr6Gxlka0Kd1"
      },
      "source": [
        "#Bài 8\n",
        "def read_molecule(reader):\n",
        " # If there isn't another line, we're at the end of the file.\n",
        " line = reader.readline()\n",
        " if not line:\n",
        " return None\n",
        " # Name of the molecule: \"COMPND name\" \n",
        " key, name = line.split()\n",
        " # Other lines are either \"END\" or \"ATOM num atom_type x y z\" \n",
        " molecule = [name]\n",
        " reading = True\n",
        " serial_number = 1\n",
        " while reading:\n",
        " line = reader.readline()\n",
        " if line.startswith('END'):\n",
        " reading = False\n",
        " else:\n",
        " key, num, atom_type, x, y, z = line.split()\n",
        " if int(num) != serial_number:\n",
        " print('Expected serial number {0}, but got {1}'.format(\n",
        " serial_number, num))\n",
        " molecule.append([atom_type, x, y, z])\n",
        " serial_number += 1\n",
        " return molecule"
      ],
      "execution_count": null,
      "outputs": []
    }
  ]
}