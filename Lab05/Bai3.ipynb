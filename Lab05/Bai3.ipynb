{
 "cells": [
  {
   "cell_type": "code",
   "execution_count": 5,
   "metadata": {},
   "outputs": [],
   "source": [
    "from Student import Student"
   ]
  },
  {
   "cell_type": "code",
   "execution_count": 6,
   "metadata": {},
   "outputs": [
    {
     "name": "stdout",
     "output_type": "stream",
     "text": [
      "Name of the student : Vu Thanh Nhan \n",
      "Address : TP.HCM \n",
      "email : vuthanhnhan950@gmail.com \n",
      "Student number : 52581 \n",
      "Courses_taken : [] \n",
      "Courses_taking : [] \n",
      "\n"
     ]
    }
   ],
   "source": [
    "student1 = Student(\"Vu Thanh Nhan\",\"TP.HCM\",\"vuthanhnhan950@gmail.com\",52581)\n",
    "print(student1)"
   ]
  },
  {
   "cell_type": "code",
   "execution_count": 7,
   "metadata": {},
   "outputs": [
    {
     "name": "stdout",
     "output_type": "stream",
     "text": [
      "Name of the student : Vu Thanh Nhan \n",
      "Address : TP.HCM \n",
      "email : vuthanhnhan950@gmail.com \n",
      "Student number : 52581 \n",
      "Courses_taken : ['Python', 'OOP'] \n",
      "Courses_taking : [] \n",
      "\n"
     ]
    }
   ],
   "source": [
    "student1.courses_taken = [\"Python\",\"OOP\"]\n",
    "print(student1)"
   ]
  },
  {
   "cell_type": "code",
   "execution_count": 8,
   "metadata": {},
   "outputs": [
    {
     "name": "stdout",
     "output_type": "stream",
     "text": [
      "Name of the student : Vu Thanh Nhan \n",
      "Address : TP.HCM \n",
      "email : vuthanhnhan950@gmail.com \n",
      "Student number : 52581 \n",
      "Courses_taken : ['Python', 'OOP'] \n",
      "Courses_taking : ['Advanced python programming'] \n",
      "\n"
     ]
    }
   ],
   "source": [
    "student1.courses_taking = [\"Advanced python programming\"]\n",
    "print(student1)"
   ]
  }
 ],
 "metadata": {
  "interpreter": {
   "hash": "33dc6d49505b4536b6a128d9d7c879e1fa44477ad44947bbbe73093067fe6393"
  },
  "kernelspec": {
   "display_name": "Python 3.9.7 64-bit",
   "name": "python3"
  },
  "language_info": {
   "codemirror_mode": {
    "name": "ipython",
    "version": 3
   },
   "file_extension": ".py",
   "mimetype": "text/x-python",
   "name": "python",
   "nbconvert_exporter": "python",
   "pygments_lexer": "ipython3",
   "version": "3.9.7"
  },
  "orig_nbformat": 4
 },
 "nbformat": 4,
 "nbformat_minor": 2
}
