{
 "cells": [
  {
   "cell_type": "code",
   "execution_count": 23,
   "metadata": {},
   "outputs": [],
   "source": [
    "from Student import Student"
   ]
  },
  {
   "cell_type": "code",
   "execution_count": 24,
   "metadata": {},
   "outputs": [
    {
     "name": "stdout",
     "output_type": "stream",
     "text": [
      "Name of the student : Luu Tan Linh \n",
      "Address : TP.HCM \n",
      "email : tanlinh15@gmail.com \n",
      "Student number : 20929 \n",
      "Courses_taken : [] \n",
      "Courses_taking : [] \n",
      "\n"
     ]
    }
   ],
   "source": [
    "student1 = Student(\"Luu Tan Linh\",\"TP.HCM\",\"tanlinh15@gmail.com\",20929)\n",
    "print(student1)"
   ]
  },
  {
   "cell_type": "code",
   "execution_count": 25,
   "metadata": {},
   "outputs": [
    {
     "name": "stdout",
     "output_type": "stream",
     "text": [
      "Name of the student : Luu Tan Linh \n",
      "Address : TP.HCM \n",
      "email : tanlinh15@gmail.com \n",
      "Student number : 20929 \n",
      "Courses_taken : ['Python', 'OOP'] \n",
      "Courses_taking : [] \n",
      "\n"
     ]
    }
   ],
   "source": [
    "student1.courses_taken = [\"Python\",\"OOP\"]\n",
    "print(student1)"
   ]
  },
  {
   "cell_type": "code",
   "execution_count": 26,
   "metadata": {},
   "outputs": [
    {
     "name": "stdout",
     "output_type": "stream",
     "text": [
      "Name of the student : Luu Tan Linh \n",
      "Address : TP.HCM \n",
      "email : tanlinh15@gmail.com \n",
      "Student number : 20929 \n",
      "Courses_taken : ['Python', 'OOP'] \n",
      "Courses_taking : ['Advanced python programming'] \n",
      "\n"
     ]
    }
   ],
   "source": [
    "student1.courses_taking = [\"Advanced python programming\"]\n",
    "print(student1)"
   ]
  }
 ],
 "metadata": {
  "interpreter": {
   "hash": "c87de2b6040ac83b8c8d5d132d8f1ada46437f2e41830b250d8975c08880fc48"
  },
  "kernelspec": {
   "display_name": "Python 3.9.7 64-bit (windows store)",
   "name": "python3"
  },
  "language_info": {
   "codemirror_mode": {
    "name": "ipython",
    "version": 3
   },
   "file_extension": ".py",
   "mimetype": "text/x-python",
   "name": "python",
   "nbconvert_exporter": "python",
   "pygments_lexer": "ipython3",
   "version": "3.9.7"
  },
  "orig_nbformat": 4
 },
 "nbformat": 4,
 "nbformat_minor": 2
}
