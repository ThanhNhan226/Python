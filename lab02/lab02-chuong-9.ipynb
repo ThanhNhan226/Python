{
  "nbformat": 4,
  "nbformat_minor": 0,
  "metadata": {
    "colab": {
      "name": "lab02.ipynb",
      "provenance": [],
      "authorship_tag": "ABX9TyNEsl9OvSnCzB7+x4vfzXx4",
      "include_colab_link": true
    },
    "kernelspec": {
      "name": "python3",
      "display_name": "Python 3"
    },
    "language_info": {
      "name": "python"
    }
  },
  "cells": [
    {
      "cell_type": "markdown",
      "metadata": {
        "id": "view-in-github",
        "colab_type": "text"
      },
      "source": [
        "<a href=\"https://colab.research.google.com/github/ThanhNhan226/Python/blob/main/lab02/lab02-chuong-9.ipynb\" target=\"_parent\"><img src=\"https://colab.research.google.com/assets/colab-badge.svg\" alt=\"Open In Colab\"/></a>"
      ]
    },
    {
      "cell_type": "markdown",
      "metadata": {
        "id": "VmGSPZIFf0uG"
      },
      "source": [
        "Chương 9"
      ]
    },
    {
      "cell_type": "code",
      "metadata": {
        "id": "ZaMO2YGYf0jp",
        "outputId": "cd207d1f-cd50-4017-94c6-07083411f7fa",
        "colab": {
          "base_uri": "https://localhost:8080/"
        }
      },
      "source": [
        "#bài 1\n",
        "celegans_phenotypes =  ['Emb','Him', 'Unc', 'Lon', 'Dpy', 'Sma']\n",
        "for phenotype in celegans_phenotypes:\n",
        " print(phenotype)"
      ],
      "execution_count": 2,
      "outputs": [
        {
          "output_type": "stream",
          "name": "stdout",
          "text": [
            "Emb\n",
            "Him\n",
            "Unc\n",
            "Lon\n",
            "Dpy\n",
            "Sma\n"
          ]
        }
      ]
    },
    {
      "cell_type": "code",
      "metadata": {
        "id": "3XgzUjLnf0hS",
        "outputId": "32e923aa-9997-40c8-c7d0-1bac2ce15c43",
        "colab": {
          "base_uri": "https://localhost:8080/"
        }
      },
      "source": [
        "#Bài 2\n",
        "half_lives = [87.74, 24110.0,6537.0, 14.4, 376000.0]\n",
        "for value in half_lives:\n",
        " print(value, end=' ')"
      ],
      "execution_count": 3,
      "outputs": [
        {
          "output_type": "stream",
          "name": "stdout",
          "text": [
            "87.74 24110.0 6537.0 14.4 376000.0 "
          ]
        }
      ]
    },
    {
      "cell_type": "code",
      "metadata": {
        "id": "Q_pmFU84f0ed",
        "outputId": "54bf76d3-0aad-4b4f-9083-889cd2883c5f",
        "colab": {
          "base_uri": "https://localhost:8080/"
        }
      },
      "source": [
        "#Bài 3\n",
        "whales = [5, 4, 7, 3, 2, 3, 2, 6, 4, 2, 1, 7, 1, 3]\n",
        "more_whales = []\n",
        "for count in whales:\n",
        " more_whales.append(count + 1)\n",
        " print(whales)"
      ],
      "execution_count": 5,
      "outputs": [
        {
          "output_type": "stream",
          "name": "stdout",
          "text": [
            "[5, 4, 7, 3, 2, 3, 2, 6, 4, 2, 1, 7, 1, 3]\n",
            "[5, 4, 7, 3, 2, 3, 2, 6, 4, 2, 1, 7, 1, 3]\n",
            "[5, 4, 7, 3, 2, 3, 2, 6, 4, 2, 1, 7, 1, 3]\n",
            "[5, 4, 7, 3, 2, 3, 2, 6, 4, 2, 1, 7, 1, 3]\n",
            "[5, 4, 7, 3, 2, 3, 2, 6, 4, 2, 1, 7, 1, 3]\n",
            "[5, 4, 7, 3, 2, 3, 2, 6, 4, 2, 1, 7, 1, 3]\n",
            "[5, 4, 7, 3, 2, 3, 2, 6, 4, 2, 1, 7, 1, 3]\n",
            "[5, 4, 7, 3, 2, 3, 2, 6, 4, 2, 1, 7, 1, 3]\n",
            "[5, 4, 7, 3, 2, 3, 2, 6, 4, 2, 1, 7, 1, 3]\n",
            "[5, 4, 7, 3, 2, 3, 2, 6, 4, 2, 1, 7, 1, 3]\n",
            "[5, 4, 7, 3, 2, 3, 2, 6, 4, 2, 1, 7, 1, 3]\n",
            "[5, 4, 7, 3, 2, 3, 2, 6, 4, 2, 1, 7, 1, 3]\n",
            "[5, 4, 7, 3, 2, 3, 2, 6, 4, 2, 1, 7, 1, 3]\n",
            "[5, 4, 7, 3, 2, 3, 2, 6, 4, 2, 1, 7, 1, 3]\n"
          ]
        }
      ]
    },
    {
      "cell_type": "code",
      "metadata": {
        "id": "G4Z6L_Raf0bm",
        "outputId": "4b61161a-232f-4dcb-919d-e14c46bbc8c8",
        "colab": {
          "base_uri": "https://localhost:8080/"
        }
      },
      "source": [
        "#Bài 4\n",
        "#câu a\n",
        "alkaline_earth_metals = [[4, 9.012], [12, 24.305],[20, 40.078], [38, 87.62],[56, 137.327], [88, 226]]\n",
        "#câu b\n",
        "for inner_list in alkaline_earth_metals:\n",
        " print(inner_list[0])\n",
        " print(inner_list[1])\n",
        " #câu c\n",
        " number_and_weight = []\n",
        "for inner_list in alkaline_earth_metals:\n",
        " number_and_weight.append(inner_list[0])\n",
        " number_and_weight.append(inner_list[1])\n",
        " print(number_and_weight)"
      ],
      "execution_count": 8,
      "outputs": [
        {
          "output_type": "stream",
          "name": "stdout",
          "text": [
            "4\n",
            "9.012\n",
            "12\n",
            "24.305\n",
            "20\n",
            "40.078\n",
            "38\n",
            "87.62\n",
            "56\n",
            "137.327\n",
            "88\n",
            "226\n",
            "[4, 9.012]\n",
            "[4, 9.012, 12, 24.305]\n",
            "[4, 9.012, 12, 24.305, 20, 40.078]\n",
            "[4, 9.012, 12, 24.305, 20, 40.078, 38, 87.62]\n",
            "[4, 9.012, 12, 24.305, 20, 40.078, 38, 87.62, 56, 137.327]\n",
            "[4, 9.012, 12, 24.305, 20, 40.078, 38, 87.62, 56, 137.327, 88, 226]\n"
          ]
        }
      ]
    },
    {
      "cell_type": "code",
      "metadata": {
        "id": "ok4cZVeuf0Y7",
        "outputId": "31c7074a-7336-444f-8263-87695e1b0308",
        "colab": {
          "base_uri": "https://localhost:8080/",
          "height": 132
        }
      },
      "source": [
        "#câu 5\n",
        "def mystery_function(values):\n",
        " mystery_function([[1, 2, 3], [4, 5, 6]])[[3, 2, 1], [6, 5, 4]]\n",
        "\n",
        " result = []\n",
        " for sublist in values:\n",
        "\n",
        " result.append([sublist[0]])\n",
        " for i in sublist[1:]:\n",
        " result[-1].insert(0, i)\n",
        " return resul"
      ],
      "execution_count": 12,
      "outputs": [
        {
          "output_type": "error",
          "ename": "IndentationError",
          "evalue": "ignored",
          "traceback": [
            "\u001b[0;36m  File \u001b[0;32m\"<ipython-input-12-e66ed33fceea>\"\u001b[0;36m, line \u001b[0;32m8\u001b[0m\n\u001b[0;31m    result.append([sublist[0]])\u001b[0m\n\u001b[0m         ^\u001b[0m\n\u001b[0;31mIndentationError\u001b[0m\u001b[0;31m:\u001b[0m expected an indented block\n"
          ]
        }
      ]
    },
    {
      "cell_type": "code",
      "metadata": {
        "id": "f-BcUIvwf0WI",
        "outputId": "81647aa3-d136-4f43-e63e-ffd80de54d4c",
        "colab": {
          "base_uri": "https://localhost:8080/",
          "height": 132
        }
      },
      "source": [
        "#câu 6\n",
        "text = \"\" \n"
      ],
      "execution_count": 13,
      "outputs": [
        {
          "output_type": "error",
          "ename": "IndentationError",
          "evalue": "ignored",
          "traceback": [
            "\u001b[0;36m  File \u001b[0;32m\"<ipython-input-13-99a776eebd81>\"\u001b[0;36m, line \u001b[0;32m6\u001b[0m\n\u001b[0;31m    print(\"…exiting program\")\u001b[0m\n\u001b[0m        ^\u001b[0m\n\u001b[0;31mIndentationError\u001b[0m\u001b[0;31m:\u001b[0m expected an indented block\n"
          ]
        }
      ]
    },
    {
      "cell_type": "code",
      "metadata": {
        "id": "11EbbHHBf0TV",
        "outputId": "d3bbc813-8037-411d-ce20-a53660368ab1",
        "colab": {
          "base_uri": "https://localhost:8080/"
        }
      },
      "source": [
        "#câu 7\n",
        "country_populations = [1295, 23, 7, 3, 47, 21]\n",
        "total = 0\n",
        "for population in country_populations:\n",
        " total += population\n",
        " print(total)"
      ],
      "execution_count": 19,
      "outputs": [
        {
          "output_type": "stream",
          "name": "stdout",
          "text": [
            "1295\n",
            "1318\n",
            "1325\n",
            "1328\n",
            "1375\n",
            "1396\n"
          ]
        }
      ]
    },
    {
      "cell_type": "code",
      "metadata": {
        "id": "YbpzViCVf0Qs",
        "outputId": "cc7a9dfb-5961-498e-ca0b-f98e32a14d66",
        "colab": {
          "base_uri": "https://localhost:8080/"
        }
      },
      "source": [
        "#câu 8\n",
        "#câu a\n",
        "rat_1 = [2]\n",
        "rat_2 = [3]\n",
        "if rat_1[0] > rat_2[0]:\n",
        " print(\"Rat 1 weighed more than rat 2 on day 1.\")\n",
        "else:\n",
        " print(\"Rat 1 weighed less than rat 2 on day 1.\")\n",
        "\n",
        "#câub\n",
        "if rat_1[0] > rat_2[0] and rat_1[-1] > rat_2[-1]:\n",
        " print(\"Rat 1 remained heavier than Rat 2.\")\n",
        "else:\n",
        " print(\"Rat 2 became heavier than Rat 1.\")\n",
        "\n",
        "#câu c\n",
        "\n"
      ],
      "execution_count": 36,
      "outputs": [
        {
          "output_type": "stream",
          "name": "stdout",
          "text": [
            "Rat 1 weighed less than rat 2 on day 1.\n",
            "Rat 2 became heavier than Rat 1.\n"
          ]
        }
      ]
    },
    {
      "cell_type": "code",
      "metadata": {
        "id": "xsY4vkmtf0JE",
        "outputId": "43db5955-2974-4b02-c1aa-ad3f99539a2d",
        "colab": {
          "base_uri": "https://localhost:8080/"
        }
      },
      "source": [
        "#câu 9\n",
        "for number in range(33, 50):\n",
        " print(number)"
      ],
      "execution_count": 37,
      "outputs": [
        {
          "output_type": "stream",
          "name": "stdout",
          "text": [
            "33\n",
            "34\n",
            "35\n",
            "36\n",
            "37\n",
            "38\n",
            "39\n",
            "40\n",
            "41\n",
            "42\n",
            "43\n",
            "44\n",
            "45\n",
            "46\n",
            "47\n",
            "48\n",
            "49\n"
          ]
        }
      ]
    },
    {
      "cell_type": "code",
      "metadata": {
        "id": "6z1gX6u3kAXT",
        "outputId": "c9e90873-304a-4530-9238-c0e48c6b2733",
        "colab": {
          "base_uri": "https://localhost:8080/"
        }
      },
      "source": [
        "#câu 10\n",
        "for number in range(10):\n",
        " print(10 - number, end=' ')"
      ],
      "execution_count": 38,
      "outputs": [
        {
          "output_type": "stream",
          "name": "stdout",
          "text": [
            "10 9 8 7 6 5 4 3 2 1 "
          ]
        }
      ]
    },
    {
      "cell_type": "code",
      "metadata": {
        "id": "VnXyJBeGkBl6",
        "outputId": "900cb279-3dae-4d82-fa88-bb2f012a1614",
        "colab": {
          "base_uri": "https://localhost:8080/"
        }
      },
      "source": [
        "#câu 11\n",
        "sum = 0\n",
        "count = 0\n",
        "for number in range(2,23):\n",
        " sum += number\n",
        " count += 1\n",
        "average = sum / count\n",
        "print(average)"
      ],
      "execution_count": 40,
      "outputs": [
        {
          "output_type": "stream",
          "name": "stdout",
          "text": [
            "12.0\n"
          ]
        }
      ]
    },
    {
      "cell_type": "code",
      "metadata": {
        "id": "eNNUi3dukBjF",
        "outputId": "e56588b9-73d7-47df-8da1-2001de643eb5",
        "colab": {
          "base_uri": "https://localhost:8080/",
          "height": 132
        }
      },
      "source": [
        "#câu 12\n",
        "def remove_neg(num_list):\n",
        " index = 0\n",
        " while index < len(num_list):\n",
        " if num_list[index] < 0:\n",
        " del num_list[index]\n",
        " else:\n",
        " index += 1"
      ],
      "execution_count": 42,
      "outputs": [
        {
          "output_type": "error",
          "ename": "IndentationError",
          "evalue": "ignored",
          "traceback": [
            "\u001b[0;36m  File \u001b[0;32m\"<ipython-input-42-7bc2e6a32e96>\"\u001b[0;36m, line \u001b[0;32m6\u001b[0m\n\u001b[0;31m    if num_list[index] < 0:\u001b[0m\n\u001b[0m     ^\u001b[0m\n\u001b[0;31mIndentationError\u001b[0m\u001b[0;31m:\u001b[0m expected an indented block\n"
          ]
        }
      ]
    },
    {
      "cell_type": "code",
      "metadata": {
        "id": "eQJPuH5IkBdy",
        "outputId": "3fdbe4eb-6c7f-475b-cdb9-c4e29195543d",
        "colab": {
          "base_uri": "https://localhost:8080/"
        }
      },
      "source": [
        "#câu 13\n",
        "for width in range(1, 8):\n",
        " print('T' * width)"
      ],
      "execution_count": 43,
      "outputs": [
        {
          "output_type": "stream",
          "name": "stdout",
          "text": [
            "T\n",
            "TT\n",
            "TTT\n",
            "TTTT\n",
            "TTTTT\n",
            "TTTTTT\n",
            "TTTTTTT\n"
          ]
        }
      ]
    },
    {
      "cell_type": "code",
      "metadata": {
        "id": "ktIG7b8LkcjI",
        "outputId": "58e56209-6707-4393-ba9c-326035600c82",
        "colab": {
          "base_uri": "https://localhost:8080/"
        }
      },
      "source": [
        "#câu 14\n",
        "for width in range(1, 8):\n",
        " print(' ' * (7 - width), 'T' * width, sep='')"
      ],
      "execution_count": 44,
      "outputs": [
        {
          "output_type": "stream",
          "name": "stdout",
          "text": [
            "      T\n",
            "     TT\n",
            "    TTT\n",
            "   TTTT\n",
            "  TTTTT\n",
            " TTTTTT\n",
            "TTTTTTT\n"
          ]
        }
      ]
    },
    {
      "cell_type": "code",
      "metadata": {
        "id": "0h_t6QVfkfr2",
        "outputId": "fa5bf10c-8fc7-4308-df8d-78b415333bda",
        "colab": {
          "base_uri": "https://localhost:8080/"
        }
      },
      "source": [
        "#câu 15\n",
        "width = 1\n",
        "while width < 8:\n",
        " print('T' * width)\n",
        " width += 1\n",
        "width = 1\n",
        "while width < 8:\n",
        " print(' ' * (7 - width), 'T' * width, sep='')\n",
        " width += 1\n"
      ],
      "execution_count": 45,
      "outputs": [
        {
          "output_type": "stream",
          "name": "stdout",
          "text": [
            "T\n",
            "TT\n",
            "TTT\n",
            "TTTT\n",
            "TTTTT\n",
            "TTTTTT\n",
            "TTTTTTT\n",
            "      T\n",
            "     TT\n",
            "    TTT\n",
            "   TTTT\n",
            "  TTTTT\n",
            " TTTTTT\n",
            "TTTTTTT\n"
          ]
        }
      ]
    },
    {
      "cell_type": "code",
      "metadata": {
        "id": "P8hHZQKBkcgI",
        "outputId": "d18d9720-fa99-472c-fa98-0e6a535afea7",
        "colab": {
          "base_uri": "https://localhost:8080/",
          "height": 238
        }
      },
      "source": [
        "#câu 16\n",
        "#câu a\n",
        "rat_1_weight = [10]\n",
        "rat_2_weight = [5]\n",
        "rat_1_rate = [2]\n",
        "rat_2_rate = [1]\n",
        "week = 1\n",
        "while rat_1_weight[week] / rat_1_weight[0] - 1 < .25:\n",
        " week += 1\n",
        "print(week)\n",
        "#câu b\n",
        "week = 0\n",
        "while rat_1_weight[week] / rat_2_weight[week] - 1 < .10:\n",
        " week += 1\n",
        "print(week) "
      ],
      "execution_count": 49,
      "outputs": [
        {
          "output_type": "error",
          "ename": "IndexError",
          "evalue": "ignored",
          "traceback": [
            "\u001b[0;31m---------------------------------------------------------------------------\u001b[0m",
            "\u001b[0;31mIndexError\u001b[0m                                Traceback (most recent call last)",
            "\u001b[0;32m<ipython-input-49-c5b622c4f397>\u001b[0m in \u001b[0;36m<module>\u001b[0;34m()\u001b[0m\n\u001b[1;32m      6\u001b[0m \u001b[0mrat_2_rate\u001b[0m \u001b[0;34m=\u001b[0m \u001b[0;34m[\u001b[0m\u001b[0;36m1\u001b[0m\u001b[0;34m]\u001b[0m\u001b[0;34m\u001b[0m\u001b[0;34m\u001b[0m\u001b[0m\n\u001b[1;32m      7\u001b[0m \u001b[0mweek\u001b[0m \u001b[0;34m=\u001b[0m \u001b[0;36m1\u001b[0m\u001b[0;34m\u001b[0m\u001b[0;34m\u001b[0m\u001b[0m\n\u001b[0;32m----> 8\u001b[0;31m \u001b[0;32mwhile\u001b[0m \u001b[0mrat_1_weight\u001b[0m\u001b[0;34m[\u001b[0m\u001b[0mweek\u001b[0m\u001b[0;34m]\u001b[0m \u001b[0;34m/\u001b[0m \u001b[0mrat_1_weight\u001b[0m\u001b[0;34m[\u001b[0m\u001b[0;36m0\u001b[0m\u001b[0;34m]\u001b[0m \u001b[0;34m-\u001b[0m \u001b[0;36m1\u001b[0m \u001b[0;34m<\u001b[0m \u001b[0;36m.25\u001b[0m\u001b[0;34m:\u001b[0m\u001b[0;34m\u001b[0m\u001b[0;34m\u001b[0m\u001b[0m\n\u001b[0m\u001b[1;32m      9\u001b[0m  \u001b[0mweek\u001b[0m \u001b[0;34m+=\u001b[0m \u001b[0;36m1\u001b[0m\u001b[0;34m\u001b[0m\u001b[0;34m\u001b[0m\u001b[0m\n\u001b[1;32m     10\u001b[0m \u001b[0mprint\u001b[0m\u001b[0;34m(\u001b[0m\u001b[0mweek\u001b[0m\u001b[0;34m)\u001b[0m\u001b[0;34m\u001b[0m\u001b[0;34m\u001b[0m\u001b[0m\n",
            "\u001b[0;31mIndexError\u001b[0m: list index out of range"
          ]
        }
      ]
    }
  ]
}