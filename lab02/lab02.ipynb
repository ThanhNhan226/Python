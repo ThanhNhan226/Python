{
  "nbformat": 4,
  "nbformat_minor": 0,
  "metadata": {
    "colab": {
      "name": "lab02.ipynb",
      "provenance": [],
      "authorship_tag": "ABX9TyM+PR+Td8h9UHDY2AC4oPY4",
      "include_colab_link": true
    },
    "kernelspec": {
      "name": "python3",
      "display_name": "Python 3"
    },
    "language_info": {
      "name": "python"
    }
  },
  "cells": [
    {
      "cell_type": "markdown",
      "metadata": {
        "id": "view-in-github",
        "colab_type": "text"
      },
      "source": [
        "<a href=\"https://colab.research.google.com/github/ThanhNhan226/Python/blob/main/lab02/lab02.ipynb\" target=\"_parent\"><img src=\"https://colab.research.google.com/assets/colab-badge.svg\" alt=\"Open In Colab\"/></a>"
      ]
    },
    {
      "cell_type": "markdown",
      "metadata": {
        "id": "ZpradbXYVLSU"
      },
      "source": [
        "Chương 8"
      ]
    },
    {
      "cell_type": "markdown",
      "metadata": {
        "id": "L6kDPR-NVNF6"
      },
      "source": [
        "Bài 1"
      ]
    },
    {
      "cell_type": "code",
      "metadata": {
        "colab": {
          "base_uri": "https://localhost:8080/",
          "height": 35
        },
        "id": "lOPeSSqKU9ZA",
        "outputId": "81714b51-68fc-49e7-92c8-47684d1e4804"
      },
      "source": [
        "kingdoms = ['Bacteria', 'Protozoa', 'Chromista', 'Plantae', 'Fungi','Animalia']\n",
        "#câu a\n",
        "kingdoms[0]"
      ],
      "execution_count": 16,
      "outputs": [
        {
          "output_type": "execute_result",
          "data": {
            "application/vnd.google.colaboratory.intrinsic+json": {
              "type": "string"
            },
            "text/plain": [
              "'Bacteria'"
            ]
          },
          "metadata": {},
          "execution_count": 16
        }
      ]
    },
    {
      "cell_type": "code",
      "metadata": {
        "colab": {
          "base_uri": "https://localhost:8080/",
          "height": 35
        },
        "id": "Jg2G5HNtXW3t",
        "outputId": "39032b76-1038-4c21-aa53-ac1f7d782b1e"
      },
      "source": [
        "#câu b\n",
        "kingdoms[5]"
      ],
      "execution_count": 7,
      "outputs": [
        {
          "output_type": "execute_result",
          "data": {
            "application/vnd.google.colaboratory.intrinsic+json": {
              "type": "string"
            },
            "text/plain": [
              "'Animalia'"
            ]
          },
          "metadata": {},
          "execution_count": 7
        }
      ]
    },
    {
      "cell_type": "code",
      "metadata": {
        "colab": {
          "base_uri": "https://localhost:8080/"
        },
        "id": "4A7tz6cZXaNK",
        "outputId": "6d63d062-90bf-4b0f-d7b9-433cf43b5021"
      },
      "source": [
        "#câu c\n",
        "kingdoms[:3]"
      ],
      "execution_count": 8,
      "outputs": [
        {
          "output_type": "execute_result",
          "data": {
            "text/plain": [
              "['Bacteria', 'Protozoa', 'Chromista']"
            ]
          },
          "metadata": {},
          "execution_count": 8
        }
      ]
    },
    {
      "cell_type": "code",
      "metadata": {
        "colab": {
          "base_uri": "https://localhost:8080/"
        },
        "id": "RhDdya3FXbw6",
        "outputId": "4c66b202-5787-4d1d-8101-5317d9238afb"
      },
      "source": [
        "#câu d\n",
        "kingdoms[2:5]"
      ],
      "execution_count": 9,
      "outputs": [
        {
          "output_type": "execute_result",
          "data": {
            "text/plain": [
              "['Chromista', 'Plantae', 'Fungi']"
            ]
          },
          "metadata": {},
          "execution_count": 9
        }
      ]
    },
    {
      "cell_type": "code",
      "metadata": {
        "colab": {
          "base_uri": "https://localhost:8080/"
        },
        "id": "cZeWdFq_Xcod",
        "outputId": "296dd5ef-b019-45dc-d6e4-e062f6b79327"
      },
      "source": [
        "#câu e\n",
        "kingdoms[4:]"
      ],
      "execution_count": 10,
      "outputs": [
        {
          "output_type": "execute_result",
          "data": {
            "text/plain": [
              "['Fungi', 'Animalia']"
            ]
          },
          "metadata": {},
          "execution_count": 10
        }
      ]
    },
    {
      "cell_type": "code",
      "metadata": {
        "colab": {
          "base_uri": "https://localhost:8080/"
        },
        "id": "YZH73f1jXdqi",
        "outputId": "c9ba50e6-0994-487b-ca1a-35bde6f8d019"
      },
      "source": [
        "#câu f\n",
        "kingdoms[1:0]"
      ],
      "execution_count": 12,
      "outputs": [
        {
          "output_type": "execute_result",
          "data": {
            "text/plain": [
              "[]"
            ]
          },
          "metadata": {},
          "execution_count": 12
        }
      ]
    },
    {
      "cell_type": "markdown",
      "metadata": {
        "id": "HWqBsDa4Xvy7"
      },
      "source": [
        "Bài 2"
      ]
    },
    {
      "cell_type": "code",
      "metadata": {
        "colab": {
          "base_uri": "https://localhost:8080/",
          "height": 35
        },
        "id": "oo1vMfgiXy1o",
        "outputId": "24b2d31d-3985-4e98-a89d-4c468a7fe012"
      },
      "source": [
        "#câu a\n",
        "kingdoms[-6]"
      ],
      "execution_count": 20,
      "outputs": [
        {
          "output_type": "execute_result",
          "data": {
            "application/vnd.google.colaboratory.intrinsic+json": {
              "type": "string"
            },
            "text/plain": [
              "'Bacteria'"
            ]
          },
          "metadata": {},
          "execution_count": 20
        }
      ]
    },
    {
      "cell_type": "code",
      "metadata": {
        "colab": {
          "base_uri": "https://localhost:8080/",
          "height": 35
        },
        "id": "0GaMpX46YHvt",
        "outputId": "36ee6c0b-bf2a-49f1-c40c-83344041d1c6"
      },
      "source": [
        "#câu b\n",
        "kingdoms[-1]"
      ],
      "execution_count": 19,
      "outputs": [
        {
          "output_type": "execute_result",
          "data": {
            "application/vnd.google.colaboratory.intrinsic+json": {
              "type": "string"
            },
            "text/plain": [
              "'Animalia'"
            ]
          },
          "metadata": {},
          "execution_count": 19
        }
      ]
    },
    {
      "cell_type": "code",
      "metadata": {
        "colab": {
          "base_uri": "https://localhost:8080/"
        },
        "id": "NQYT0xC6YHtB",
        "outputId": "0cc13c14-dc20-4d5a-9245-d7fd6c018a3a"
      },
      "source": [
        "#câu c\n",
        "kingdoms[-6:-3]"
      ],
      "execution_count": 18,
      "outputs": [
        {
          "output_type": "execute_result",
          "data": {
            "text/plain": [
              "['Bacteria', 'Protozoa', 'Chromista']"
            ]
          },
          "metadata": {},
          "execution_count": 18
        }
      ]
    },
    {
      "cell_type": "code",
      "metadata": {
        "colab": {
          "base_uri": "https://localhost:8080/"
        },
        "id": "2ZWUmmBcYHqS",
        "outputId": "c39f4fc1-207d-4cfe-f5f9-35bf26a527ac"
      },
      "source": [
        "#câu d\n",
        "kingdoms[-4:-1]\n"
      ],
      "execution_count": 17,
      "outputs": [
        {
          "output_type": "execute_result",
          "data": {
            "text/plain": [
              "['Chromista', 'Plantae', 'Fungi']"
            ]
          },
          "metadata": {},
          "execution_count": 17
        }
      ]
    },
    {
      "cell_type": "code",
      "metadata": {
        "colab": {
          "base_uri": "https://localhost:8080/"
        },
        "id": "HBmXaVJ_Ybli",
        "outputId": "299bf60b-1f3f-4dec-f43e-750c4946d2c1"
      },
      "source": [
        "#câu e\n",
        "kingdoms[-2:]"
      ],
      "execution_count": 22,
      "outputs": [
        {
          "output_type": "execute_result",
          "data": {
            "text/plain": [
              "['Fungi', 'Animalia']"
            ]
          },
          "metadata": {},
          "execution_count": 22
        }
      ]
    },
    {
      "cell_type": "code",
      "metadata": {
        "colab": {
          "base_uri": "https://localhost:8080/"
        },
        "id": "RhxkeKR9Ycit",
        "outputId": "65f63f30-17a6-4acc-d1eb-ee3ec53e62da"
      },
      "source": [
        "#câu f\n",
        "kingdoms[-1:-2]"
      ],
      "execution_count": 21,
      "outputs": [
        {
          "output_type": "execute_result",
          "data": {
            "text/plain": [
              "[]"
            ]
          },
          "metadata": {},
          "execution_count": 21
        }
      ]
    },
    {
      "cell_type": "markdown",
      "metadata": {
        "id": "zbQH6szQZaZW"
      },
      "source": [
        "Bài 3"
      ]
    },
    {
      "cell_type": "code",
      "metadata": {
        "colab": {
          "base_uri": "https://localhost:8080/",
          "height": 35
        },
        "id": "LPTjPcAdZbtF",
        "outputId": "962d3e85-744f-46d3-f385-6b99ecdce611"
      },
      "source": [
        "appointments = ['9:00', '10:30','14:00', '15:00', '15:30']\n",
        "#câu a\n",
        "appointments.append('16:30')\n",
        "appointments[5]"
      ],
      "execution_count": 30,
      "outputs": [
        {
          "output_type": "execute_result",
          "data": {
            "application/vnd.google.colaboratory.intrinsic+json": {
              "type": "string"
            },
            "text/plain": [
              "'16:30'"
            ]
          },
          "metadata": {},
          "execution_count": 30
        }
      ]
    },
    {
      "cell_type": "code",
      "metadata": {
        "colab": {
          "base_uri": "https://localhost:8080/",
          "height": 35
        },
        "id": "RtTJGWNyaAMt",
        "outputId": "ce859474-aaa9-47fa-da7f-2973966ce7d8"
      },
      "source": [
        "#câu b\n",
        "appointments += ['16:30']\n",
        "appointments[5]"
      ],
      "execution_count": 31,
      "outputs": [
        {
          "output_type": "execute_result",
          "data": {
            "application/vnd.google.colaboratory.intrinsic+json": {
              "type": "string"
            },
            "text/plain": [
              "'16:30'"
            ]
          },
          "metadata": {},
          "execution_count": 31
        }
      ]
    },
    {
      "cell_type": "code",
      "metadata": {
        "id": "tKrKS76HbQwS"
      },
      "source": [
        "#câu c\n",
        "addpend đã sửa đổi danh sách (câu a)\n",
        "+= đã tạo ra 1 list mới (câu b)"
      ],
      "execution_count": null,
      "outputs": []
    },
    {
      "cell_type": "markdown",
      "metadata": {
        "id": "JLDpJVksbxwR"
      },
      "source": [
        "Bài 4"
      ]
    },
    {
      "cell_type": "code",
      "metadata": {
        "colab": {
          "base_uri": "https://localhost:8080/"
        },
        "id": "bnAmHTOGcMuZ",
        "outputId": "e20b1839-a249-48b3-fe3a-c14e4868fc8d"
      },
      "source": [
        "numbers = [4353, 2314, 2956, 3382, 9362, 3900]\n",
        "#câu a\n",
        "numbers.remove(3382)\n",
        "print(numbers)"
      ],
      "execution_count": 34,
      "outputs": [
        {
          "output_type": "stream",
          "name": "stdout",
          "text": [
            "[4353, 2314, 2956, 9362, 3900]\n"
          ]
        }
      ]
    },
    {
      "cell_type": "code",
      "metadata": {
        "colab": {
          "base_uri": "https://localhost:8080/"
        },
        "id": "2JT3STfCcMsB",
        "outputId": "94b1e1c0-a5dd-4b9b-a803-365ff55d5dc9"
      },
      "source": [
        "#câu b\n",
        "numbers.index(9362)"
      ],
      "execution_count": 35,
      "outputs": [
        {
          "output_type": "execute_result",
          "data": {
            "text/plain": [
              "3"
            ]
          },
          "metadata": {},
          "execution_count": 35
        }
      ]
    },
    {
      "cell_type": "code",
      "metadata": {
        "colab": {
          "base_uri": "https://localhost:8080/"
        },
        "id": "0HfKrDmvcMpc",
        "outputId": "01373ed0-cda8-4aed-d9ae-af45a98608fa"
      },
      "source": [
        "#câu c\n",
        "numbers.insert(numbers.index(9362) + 1, 4499)\n",
        "print(numbers)"
      ],
      "execution_count": 39,
      "outputs": [
        {
          "output_type": "stream",
          "name": "stdout",
          "text": [
            "[4353, 2314, 2956, 9362, 4499, 4499, 3900]\n"
          ]
        }
      ]
    },
    {
      "cell_type": "code",
      "metadata": {
        "colab": {
          "base_uri": "https://localhost:8080/"
        },
        "id": "SRfVg0VwezHH",
        "outputId": "88e26716-5372-4923-ff62-d2421834b759"
      },
      "source": [
        "#câu d\n",
        "numbers = numbers + [5566, 1830]\n",
        "print(numbers)"
      ],
      "execution_count": 41,
      "outputs": [
        {
          "output_type": "stream",
          "name": "stdout",
          "text": [
            "[4353, 2314, 2956, 9362, 4499, 4499, 3900, 5566, 1830, 5566, 1830]\n"
          ]
        }
      ]
    },
    {
      "cell_type": "code",
      "metadata": {
        "colab": {
          "base_uri": "https://localhost:8080/"
        },
        "id": "6BvrXw1efHjm",
        "outputId": "73b202ed-b176-466a-8b57-19c3a3edaf4b"
      },
      "source": [
        "#câu e\n",
        "numbers.reverse()\n",
        "print(numbers)"
      ],
      "execution_count": 46,
      "outputs": [
        {
          "output_type": "stream",
          "name": "stdout",
          "text": [
            "[1830, 5566, 1830, 5566, 3900, 4499, 4499, 9362, 2956, 2314, 4353]\n"
          ]
        }
      ]
    },
    {
      "cell_type": "code",
      "metadata": {
        "colab": {
          "base_uri": "https://localhost:8080/"
        },
        "id": "H-v_NE80fuT1",
        "outputId": "37f1ec8b-33f8-4f4e-bb87-f354dbcfc6b1"
      },
      "source": [
        "#câu f\n",
        "numbers.sort()\n",
        "print(numbers)"
      ],
      "execution_count": 47,
      "outputs": [
        {
          "output_type": "stream",
          "name": "stdout",
          "text": [
            "[1830, 1830, 2314, 2956, 3900, 4353, 4499, 4499, 5566, 5566, 9362]\n"
          ]
        }
      ]
    },
    {
      "cell_type": "markdown",
      "metadata": {
        "id": "tfJxQoFnYLD7"
      },
      "source": [
        "Bài 5"
      ]
    },
    {
      "cell_type": "code",
      "metadata": {
        "id": "gJ1FsLFIgIha"
      },
      "source": [
        "alkaline_earth_metals = [4, 12, 20, 38, 56, 88]"
      ],
      "execution_count": 48,
      "outputs": []
    }
  ]
}