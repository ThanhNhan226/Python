{
  "nbformat": 4,
  "nbformat_minor": 0,
  "metadata": {
    "colab": {
      "name": "lab02.ipynb",
      "provenance": [],
      "authorship_tag": "ABX9TyNhaL84wjXjFqUW7EuKl9j7",
      "include_colab_link": true
    },
    "kernelspec": {
      "name": "python3",
      "display_name": "Python 3"
    },
    "language_info": {
      "name": "python"
    }
  },
  "cells": [
    {
      "cell_type": "markdown",
      "metadata": {
        "id": "view-in-github",
        "colab_type": "text"
      },
      "source": [
        "<a href=\"https://colab.research.google.com/github/ThanhNhan226/Python/blob/main/lab02/lab02.ipynb\" target=\"_parent\"><img src=\"https://colab.research.google.com/assets/colab-badge.svg\" alt=\"Open In Colab\"/></a>"
      ]
    },
    {
      "cell_type": "markdown",
      "metadata": {
        "id": "ZpradbXYVLSU"
      },
      "source": [
        "Chương 8"
      ]
    },
    {
      "cell_type": "markdown",
      "metadata": {
        "id": "L6kDPR-NVNF6"
      },
      "source": [
        "Bài 1"
      ]
    },
    {
      "cell_type": "code",
      "metadata": {
        "colab": {
          "base_uri": "https://localhost:8080/",
          "height": 35
        },
        "id": "lOPeSSqKU9ZA",
        "outputId": "81714b51-68fc-49e7-92c8-47684d1e4804"
      },
      "source": [
        "kingdoms = ['Bacteria', 'Protozoa', 'Chromista', 'Plantae', 'Fungi','Animalia']\n",
        "#câu a\n",
        "kingdoms[0]"
      ],
      "execution_count": null,
      "outputs": [
        {
          "output_type": "execute_result",
          "data": {
            "application/vnd.google.colaboratory.intrinsic+json": {
              "type": "string"
            },
            "text/plain": [
              "'Bacteria'"
            ]
          },
          "metadata": {},
          "execution_count": 16
        }
      ]
    },
    {
      "cell_type": "code",
      "metadata": {
        "colab": {
          "base_uri": "https://localhost:8080/",
          "height": 35
        },
        "id": "Jg2G5HNtXW3t",
        "outputId": "39032b76-1038-4c21-aa53-ac1f7d782b1e"
      },
      "source": [
        "#câu b\n",
        "kingdoms[5]"
      ],
      "execution_count": null,
      "outputs": [
        {
          "output_type": "execute_result",
          "data": {
            "application/vnd.google.colaboratory.intrinsic+json": {
              "type": "string"
            },
            "text/plain": [
              "'Animalia'"
            ]
          },
          "metadata": {},
          "execution_count": 7
        }
      ]
    },
    {
      "cell_type": "code",
      "metadata": {
        "colab": {
          "base_uri": "https://localhost:8080/"
        },
        "id": "4A7tz6cZXaNK",
        "outputId": "6d63d062-90bf-4b0f-d7b9-433cf43b5021"
      },
      "source": [
        "#câu c\n",
        "kingdoms[:3]"
      ],
      "execution_count": null,
      "outputs": [
        {
          "output_type": "execute_result",
          "data": {
            "text/plain": [
              "['Bacteria', 'Protozoa', 'Chromista']"
            ]
          },
          "metadata": {},
          "execution_count": 8
        }
      ]
    },
    {
      "cell_type": "code",
      "metadata": {
        "colab": {
          "base_uri": "https://localhost:8080/"
        },
        "id": "RhDdya3FXbw6",
        "outputId": "4c66b202-5787-4d1d-8101-5317d9238afb"
      },
      "source": [
        "#câu d\n",
        "kingdoms[2:5]"
      ],
      "execution_count": null,
      "outputs": [
        {
          "output_type": "execute_result",
          "data": {
            "text/plain": [
              "['Chromista', 'Plantae', 'Fungi']"
            ]
          },
          "metadata": {},
          "execution_count": 9
        }
      ]
    },
    {
      "cell_type": "code",
      "metadata": {
        "colab": {
          "base_uri": "https://localhost:8080/"
        },
        "id": "cZeWdFq_Xcod",
        "outputId": "296dd5ef-b019-45dc-d6e4-e062f6b79327"
      },
      "source": [
        "#câu e\n",
        "kingdoms[4:]"
      ],
      "execution_count": null,
      "outputs": [
        {
          "output_type": "execute_result",
          "data": {
            "text/plain": [
              "['Fungi', 'Animalia']"
            ]
          },
          "metadata": {},
          "execution_count": 10
        }
      ]
    },
    {
      "cell_type": "code",
      "metadata": {
        "colab": {
          "base_uri": "https://localhost:8080/"
        },
        "id": "YZH73f1jXdqi",
        "outputId": "c9ba50e6-0994-487b-ca1a-35bde6f8d019"
      },
      "source": [
        "#câu f\n",
        "kingdoms[1:0]"
      ],
      "execution_count": null,
      "outputs": [
        {
          "output_type": "execute_result",
          "data": {
            "text/plain": [
              "[]"
            ]
          },
          "metadata": {},
          "execution_count": 12
        }
      ]
    },
    {
      "cell_type": "markdown",
      "metadata": {
        "id": "HWqBsDa4Xvy7"
      },
      "source": [
        "Bài 2"
      ]
    },
    {
      "cell_type": "code",
      "metadata": {
        "colab": {
          "base_uri": "https://localhost:8080/",
          "height": 35
        },
        "id": "oo1vMfgiXy1o",
        "outputId": "24b2d31d-3985-4e98-a89d-4c468a7fe012"
      },
      "source": [
        "#câu a\n",
        "kingdoms[-6]"
      ],
      "execution_count": null,
      "outputs": [
        {
          "output_type": "execute_result",
          "data": {
            "application/vnd.google.colaboratory.intrinsic+json": {
              "type": "string"
            },
            "text/plain": [
              "'Bacteria'"
            ]
          },
          "metadata": {},
          "execution_count": 20
        }
      ]
    },
    {
      "cell_type": "code",
      "metadata": {
        "colab": {
          "base_uri": "https://localhost:8080/",
          "height": 35
        },
        "id": "0GaMpX46YHvt",
        "outputId": "36ee6c0b-bf2a-49f1-c40c-83344041d1c6"
      },
      "source": [
        "#câu b\n",
        "kingdoms[-1]"
      ],
      "execution_count": null,
      "outputs": [
        {
          "output_type": "execute_result",
          "data": {
            "application/vnd.google.colaboratory.intrinsic+json": {
              "type": "string"
            },
            "text/plain": [
              "'Animalia'"
            ]
          },
          "metadata": {},
          "execution_count": 19
        }
      ]
    },
    {
      "cell_type": "code",
      "metadata": {
        "colab": {
          "base_uri": "https://localhost:8080/"
        },
        "id": "NQYT0xC6YHtB",
        "outputId": "0cc13c14-dc20-4d5a-9245-d7fd6c018a3a"
      },
      "source": [
        "#câu c\n",
        "kingdoms[-6:-3]"
      ],
      "execution_count": null,
      "outputs": [
        {
          "output_type": "execute_result",
          "data": {
            "text/plain": [
              "['Bacteria', 'Protozoa', 'Chromista']"
            ]
          },
          "metadata": {},
          "execution_count": 18
        }
      ]
    },
    {
      "cell_type": "code",
      "metadata": {
        "colab": {
          "base_uri": "https://localhost:8080/"
        },
        "id": "2ZWUmmBcYHqS",
        "outputId": "c39f4fc1-207d-4cfe-f5f9-35bf26a527ac"
      },
      "source": [
        "#câu d\n",
        "kingdoms[-4:-1]\n"
      ],
      "execution_count": null,
      "outputs": [
        {
          "output_type": "execute_result",
          "data": {
            "text/plain": [
              "['Chromista', 'Plantae', 'Fungi']"
            ]
          },
          "metadata": {},
          "execution_count": 17
        }
      ]
    },
    {
      "cell_type": "code",
      "metadata": {
        "colab": {
          "base_uri": "https://localhost:8080/"
        },
        "id": "HBmXaVJ_Ybli",
        "outputId": "299bf60b-1f3f-4dec-f43e-750c4946d2c1"
      },
      "source": [
        "#câu e\n",
        "kingdoms[-2:]"
      ],
      "execution_count": null,
      "outputs": [
        {
          "output_type": "execute_result",
          "data": {
            "text/plain": [
              "['Fungi', 'Animalia']"
            ]
          },
          "metadata": {},
          "execution_count": 22
        }
      ]
    },
    {
      "cell_type": "code",
      "metadata": {
        "colab": {
          "base_uri": "https://localhost:8080/"
        },
        "id": "RhxkeKR9Ycit",
        "outputId": "65f63f30-17a6-4acc-d1eb-ee3ec53e62da"
      },
      "source": [
        "#câu f\n",
        "kingdoms[-1:-2]"
      ],
      "execution_count": null,
      "outputs": [
        {
          "output_type": "execute_result",
          "data": {
            "text/plain": [
              "[]"
            ]
          },
          "metadata": {},
          "execution_count": 21
        }
      ]
    },
    {
      "cell_type": "markdown",
      "metadata": {
        "id": "zbQH6szQZaZW"
      },
      "source": [
        "Bài 3"
      ]
    },
    {
      "cell_type": "code",
      "metadata": {
        "colab": {
          "base_uri": "https://localhost:8080/",
          "height": 35
        },
        "id": "LPTjPcAdZbtF",
        "outputId": "962d3e85-744f-46d3-f385-6b99ecdce611"
      },
      "source": [
        "appointments = ['9:00', '10:30','14:00', '15:00', '15:30']\n",
        "#câu a\n",
        "appointments.append('16:30')\n",
        "appointments[5]"
      ],
      "execution_count": null,
      "outputs": [
        {
          "output_type": "execute_result",
          "data": {
            "application/vnd.google.colaboratory.intrinsic+json": {
              "type": "string"
            },
            "text/plain": [
              "'16:30'"
            ]
          },
          "metadata": {},
          "execution_count": 30
        }
      ]
    },
    {
      "cell_type": "code",
      "metadata": {
        "colab": {
          "base_uri": "https://localhost:8080/",
          "height": 35
        },
        "id": "RtTJGWNyaAMt",
        "outputId": "ce859474-aaa9-47fa-da7f-2973966ce7d8"
      },
      "source": [
        "#câu b\n",
        "appointments += ['16:30']\n",
        "appointments[5]"
      ],
      "execution_count": null,
      "outputs": [
        {
          "output_type": "execute_result",
          "data": {
            "application/vnd.google.colaboratory.intrinsic+json": {
              "type": "string"
            },
            "text/plain": [
              "'16:30'"
            ]
          },
          "metadata": {},
          "execution_count": 31
        }
      ]
    },
    {
      "cell_type": "code",
      "metadata": {
        "id": "tKrKS76HbQwS"
      },
      "source": [
        "#câu c\n",
        "addpend đã sửa đổi danh sách (câu a)\n",
        "+= đã tạo ra 1 list mới (câu b)"
      ],
      "execution_count": null,
      "outputs": []
    },
    {
      "cell_type": "markdown",
      "metadata": {
        "id": "JLDpJVksbxwR"
      },
      "source": [
        "Bài 4"
      ]
    },
    {
      "cell_type": "code",
      "metadata": {
        "colab": {
          "base_uri": "https://localhost:8080/"
        },
        "id": "bnAmHTOGcMuZ",
        "outputId": "e20b1839-a249-48b3-fe3a-c14e4868fc8d"
      },
      "source": [
        "numbers = [4353, 2314, 2956, 3382, 9362, 3900]\n",
        "#câu a\n",
        "numbers.remove(3382)\n",
        "print(numbers)"
      ],
      "execution_count": null,
      "outputs": [
        {
          "output_type": "stream",
          "name": "stdout",
          "text": [
            "[4353, 2314, 2956, 9362, 3900]\n"
          ]
        }
      ]
    },
    {
      "cell_type": "code",
      "metadata": {
        "colab": {
          "base_uri": "https://localhost:8080/"
        },
        "id": "2JT3STfCcMsB",
        "outputId": "94b1e1c0-a5dd-4b9b-a803-365ff55d5dc9"
      },
      "source": [
        "#câu b\n",
        "numbers.index(9362)"
      ],
      "execution_count": null,
      "outputs": [
        {
          "output_type": "execute_result",
          "data": {
            "text/plain": [
              "3"
            ]
          },
          "metadata": {},
          "execution_count": 35
        }
      ]
    },
    {
      "cell_type": "code",
      "metadata": {
        "colab": {
          "base_uri": "https://localhost:8080/"
        },
        "id": "0HfKrDmvcMpc",
        "outputId": "01373ed0-cda8-4aed-d9ae-af45a98608fa"
      },
      "source": [
        "#câu c\n",
        "numbers.insert(numbers.index(9362) + 1, 4499)\n",
        "print(numbers)"
      ],
      "execution_count": null,
      "outputs": [
        {
          "output_type": "stream",
          "name": "stdout",
          "text": [
            "[4353, 2314, 2956, 9362, 4499, 4499, 3900]\n"
          ]
        }
      ]
    },
    {
      "cell_type": "code",
      "metadata": {
        "colab": {
          "base_uri": "https://localhost:8080/"
        },
        "id": "SRfVg0VwezHH",
        "outputId": "88e26716-5372-4923-ff62-d2421834b759"
      },
      "source": [
        "#câu d\n",
        "numbers = numbers + [5566, 1830]\n",
        "print(numbers)"
      ],
      "execution_count": null,
      "outputs": [
        {
          "output_type": "stream",
          "name": "stdout",
          "text": [
            "[4353, 2314, 2956, 9362, 4499, 4499, 3900, 5566, 1830, 5566, 1830]\n"
          ]
        }
      ]
    },
    {
      "cell_type": "code",
      "metadata": {
        "colab": {
          "base_uri": "https://localhost:8080/"
        },
        "id": "6BvrXw1efHjm",
        "outputId": "73b202ed-b176-466a-8b57-19c3a3edaf4b"
      },
      "source": [
        "#câu e\n",
        "numbers.reverse()\n",
        "print(numbers)"
      ],
      "execution_count": null,
      "outputs": [
        {
          "output_type": "stream",
          "name": "stdout",
          "text": [
            "[1830, 5566, 1830, 5566, 3900, 4499, 4499, 9362, 2956, 2314, 4353]\n"
          ]
        }
      ]
    },
    {
      "cell_type": "code",
      "metadata": {
        "colab": {
          "base_uri": "https://localhost:8080/"
        },
        "id": "H-v_NE80fuT1",
        "outputId": "37f1ec8b-33f8-4f4e-bb87-f354dbcfc6b1"
      },
      "source": [
        "#câu f\n",
        "numbers.sort()\n",
        "print(numbers)"
      ],
      "execution_count": null,
      "outputs": [
        {
          "output_type": "stream",
          "name": "stdout",
          "text": [
            "[1830, 1830, 2314, 2956, 3900, 4353, 4499, 4499, 5566, 5566, 9362]\n"
          ]
        }
      ]
    },
    {
      "cell_type": "markdown",
      "metadata": {
        "id": "tfJxQoFnYLD7"
      },
      "source": [
        "Bài 5"
      ]
    },
    {
      "cell_type": "code",
      "metadata": {
        "id": "gJ1FsLFIgIha",
        "outputId": "374a1227-2982-4c5b-cef4-cefe0222b858",
        "colab": {
          "base_uri": "https://localhost:8080/"
        }
      },
      "source": [
        "#câu a\n",
        "alkaline_earth_metals = [4, 12, 20, 38, 56, 88]\n",
        "#câu b\n",
        "print(alkaline_earth_metals[5])\n",
        "print(alkaline_earth_metals[-1])\n",
        "#câu c\n",
        "print(len(alkaline_earth_metals))\n",
        "#câu d\n",
        "print(max(alkaline_earth_metals))"
      ],
      "execution_count": 11,
      "outputs": [
        {
          "output_type": "stream",
          "name": "stdout",
          "text": [
            "88\n",
            "88\n",
            "6\n",
            "88\n"
          ]
        }
      ]
    },
    {
      "cell_type": "markdown",
      "metadata": {
        "id": "Sz9_4cjTDdD6"
      },
      "source": [
        "Bài 6"
      ]
    },
    {
      "cell_type": "code",
      "metadata": {
        "id": "TQZOO1LqC6AH",
        "outputId": "34830752-46b9-4052-9d8e-29a960e48c80",
        "colab": {
          "base_uri": "https://localhost:8080/"
        }
      },
      "source": [
        "#câu a\n",
        "temps = [25.2, 16.8, 31.4, 23.9, 28, 22.5, 19.6]\n",
        "#câu b \n",
        "temps.sort()\n",
        "print(temps)\n",
        "#câu c\n",
        "cool_temps = temps[0:2]\n",
        "print(cool_temps)\n",
        "warm_temps = temps[2:]\n",
        "print(warm_temps)\n",
        "#câu d\n",
        "temps_in_celsius = cool_temps + warm_temps\n",
        "print(temps_in_celsius)"
      ],
      "execution_count": 27,
      "outputs": [
        {
          "output_type": "stream",
          "name": "stdout",
          "text": [
            "[16.8, 19.6, 22.5, 23.9, 25.2, 28, 31.4]\n",
            "[16.8, 19.6]\n",
            "[22.5, 23.9, 25.2, 28, 31.4]\n",
            "[16.8, 19.6, 22.5, 23.9, 25.2, 28, 31.4]\n"
          ]
        }
      ]
    },
    {
      "cell_type": "markdown",
      "metadata": {
        "id": "XvNEcGEnFTQK"
      },
      "source": [
        "Bài 7"
      ]
    },
    {
      "cell_type": "code",
      "metadata": {
        "id": "-YQAnl5pFUTY",
        "outputId": "a8e798eb-cd72-4621-9618-ec924cd967e0",
        "colab": {
          "base_uri": "https://localhost:8080/"
        }
      },
      "source": [
        "def same_first_last(L):\n",
        "  if L[0] == L[-1]:\n",
        "    print('true')\n",
        "  else:\n",
        "    print('false')\n",
        "same_first_last([3, 4, 2, 8, 3])\n",
        "same_first_last(['apple', 'banana', 'pear'])\n",
        "same_first_last([4.0, 4.5])\n"
      ],
      "execution_count": 51,
      "outputs": [
        {
          "output_type": "stream",
          "name": "stdout",
          "text": [
            "true\n",
            "false\n",
            "false\n"
          ]
        }
      ]
    },
    {
      "cell_type": "markdown",
      "metadata": {
        "id": "Iuh9sCcII7p2"
      },
      "source": [
        "Bài 8"
      ]
    },
    {
      "cell_type": "code",
      "metadata": {
        "id": "432kcbB7I9yL",
        "outputId": "16066f2e-c403-4da6-ab29-39f5988791e7",
        "colab": {
          "base_uri": "https://localhost:8080/"
        }
      },
      "source": [
        "def is_longer(L1, L2):\n",
        "  if len(L1) > len(L2):\n",
        "    print('true')\n",
        "  else:\n",
        "    print('false')\n",
        "is_longer([1, 2, 3], [4, 5])\n",
        "is_longer(['abcdef'], ['ab', 'cd', 'ef'])\n",
        "is_longer(['a', 'b', 'c'], [1, 2, 3])"
      ],
      "execution_count": 53,
      "outputs": [
        {
          "output_type": "stream",
          "name": "stdout",
          "text": [
            "true\n",
            "false\n",
            "false\n"
          ]
        }
      ]
    },
    {
      "cell_type": "markdown",
      "metadata": {
        "id": "4Lrglz1fJ2uf"
      },
      "source": [
        "Bài 9"
      ]
    },
    {
      "cell_type": "code",
      "metadata": {
        "id": "G5Oq0IGBJ41S",
        "outputId": "95fcc002-868e-4fc2-d173-e9e734a71d21",
        "colab": {
          "base_uri": "https://localhost:8080/"
        }
      },
      "source": [
        "values = [0, 1, 2]\n",
        "values[1] = values\n",
        "print(values)"
      ],
      "execution_count": 56,
      "outputs": [
        {
          "output_type": "stream",
          "name": "stdout",
          "text": [
            "[0, [...], 2]\n"
          ]
        }
      ]
    },
    {
      "cell_type": "markdown",
      "metadata": {
        "id": "GECtF-zDKWoG"
      },
      "source": [
        "Bài 10"
      ]
    },
    {
      "cell_type": "code",
      "metadata": {
        "id": "D7QUclN3KX7h",
        "outputId": "0152458c-d5b3-40c2-8617-9a27810ffaeb",
        "colab": {
          "base_uri": "https://localhost:8080/"
        }
      },
      "source": [
        "units = [['km', 'miles', 'league'], ['kg', 'pound', 'stone']]\n",
        "#câu a\n",
        "print(units[0])\n",
        "#câu b\n",
        "print(units[1])\n",
        "#câu c\n",
        "print(units[0][0])\n",
        "#câu d\n",
        "print(units[1][0])\n",
        "#câu e\n",
        "print(units[0][1:])\n",
        "#câu f\n",
        "print(units[1][0:2])"
      ],
      "execution_count": 62,
      "outputs": [
        {
          "output_type": "stream",
          "name": "stdout",
          "text": [
            "['km', 'miles', 'league']\n",
            "['kg', 'pound', 'stone']\n",
            "km\n",
            "kg\n",
            "['miles', 'league']\n",
            "['kg', 'pound']\n"
          ]
        }
      ]
    },
    {
      "cell_type": "markdown",
      "metadata": {
        "id": "qpSES0lYMRbi"
      },
      "source": [
        "Bài 11"
      ]
    },
    {
      "cell_type": "code",
      "metadata": {
        "id": "l_rETNSQMSsh",
        "outputId": "4d6b004c-6fb6-4e31-8c43-8a7248ca073b",
        "colab": {
          "base_uri": "https://localhost:8080/"
        }
      },
      "source": [
        "print(units[-2])\n",
        "print(units[-1])\n",
        "print(units[-2][-3])\n",
        "print(units[-1][-3])\n",
        "print(units[-2][-2:])\n",
        "print(units[-1][:-1])"
      ],
      "execution_count": 65,
      "outputs": [
        {
          "output_type": "stream",
          "name": "stdout",
          "text": [
            "['km', 'miles', 'league']\n",
            "['kg', 'pound', 'stone']\n",
            "km\n",
            "kg\n",
            "['miles', 'league']\n",
            "['kg', 'pound']\n"
          ]
        }
      ]
    }
  ]
}