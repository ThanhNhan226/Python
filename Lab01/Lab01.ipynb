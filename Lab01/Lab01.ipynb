{
  "nbformat": 4,
  "nbformat_minor": 0,
  "metadata": {
    "colab": {
      "name": "Lab01.ipynb",
      "provenance": [],
      "include_colab_link": true
    },
    "kernelspec": {
      "name": "python3",
      "display_name": "Python 3"
    },
    "language_info": {
      "name": "python"
    }
  },
  "cells": [
    {
      "cell_type": "markdown",
      "metadata": {
        "id": "view-in-github",
        "colab_type": "text"
      },
      "source": [
        "<a href=\"https://colab.research.google.com/github/ThanhNhan226/Python/blob/main/Lab01/Lab01.ipynb\" target=\"_parent\"><img src=\"https://colab.research.google.com/assets/colab-badge.svg\" alt=\"Open In Colab\"/></a>"
      ]
    },
    {
      "cell_type": "markdown",
      "metadata": {
        "id": "vcHAahvTcHqR"
      },
      "source": [
        "Bài 1"
      ]
    },
    {
      "cell_type": "code",
      "metadata": {
        "colab": {
          "base_uri": "https://localhost:8080/"
        },
        "id": "mMBNDZDMCIkJ",
        "outputId": "4a40ed7a-e35a-4305-fbd1-66b578c9e031"
      },
      "source": [
        "min(2,3,4)"
      ],
      "execution_count": null,
      "outputs": [
        {
          "output_type": "execute_result",
          "data": {
            "text/plain": [
              "2"
            ]
          },
          "metadata": {},
          "execution_count": 1
        }
      ]
    },
    {
      "cell_type": "code",
      "metadata": {
        "id": "tcgFTjlqb-zm",
        "colab": {
          "base_uri": "https://localhost:8080/"
        },
        "outputId": "211048e7-b3d5-4e84-fe58-52554d7ccb4b"
      },
      "source": [
        "max(2, -3, 4, 7, -5)"
      ],
      "execution_count": null,
      "outputs": [
        {
          "output_type": "execute_result",
          "data": {
            "text/plain": [
              "7"
            ]
          },
          "metadata": {},
          "execution_count": 7
        }
      ]
    },
    {
      "cell_type": "code",
      "metadata": {
        "id": "MqrFMBAYcC6-",
        "colab": {
          "base_uri": "https://localhost:8080/"
        },
        "outputId": "5ae4690e-a9d7-48f1-a023-70121c6b215c"
      },
      "source": [
        "max(2, -3, min(4, 7), -5)"
      ],
      "execution_count": null,
      "outputs": [
        {
          "output_type": "execute_result",
          "data": {
            "text/plain": [
              "4"
            ]
          },
          "metadata": {},
          "execution_count": 8
        }
      ]
    },
    {
      "cell_type": "markdown",
      "metadata": {
        "id": "GPVHKDLdCWaG"
      },
      "source": [
        "bài 2"
      ]
    },
    {
      "cell_type": "code",
      "metadata": {
        "colab": {
          "base_uri": "https://localhost:8080/"
        },
        "id": "bNdIUw4lCZKT",
        "outputId": "a61655a5-1a49-4d5f-dbf4-040c8f9c17f0"
      },
      "source": [
        "min(max(3, 4), abs(-5))"
      ],
      "execution_count": null,
      "outputs": [
        {
          "output_type": "execute_result",
          "data": {
            "text/plain": [
              "4"
            ]
          },
          "metadata": {},
          "execution_count": 4
        }
      ]
    },
    {
      "cell_type": "code",
      "metadata": {
        "colab": {
          "base_uri": "https://localhost:8080/"
        },
        "id": "ypxJcHKQDAWp",
        "outputId": "1f0d7178-4301-42c2-bc70-2eb532f35aa7"
      },
      "source": [
        "abs(min(4, 6, max(2, 8)))"
      ],
      "execution_count": null,
      "outputs": [
        {
          "output_type": "execute_result",
          "data": {
            "text/plain": [
              "4"
            ]
          },
          "metadata": {},
          "execution_count": 5
        }
      ]
    },
    {
      "cell_type": "code",
      "metadata": {
        "id": "mwZPT5WVcgst",
        "colab": {
          "base_uri": "https://localhost:8080/"
        },
        "outputId": "e13f81ff-fdd0-4b41-f0b1-f918918ef2f4"
      },
      "source": [
        "round(max(5.572, 3.258), abs(-2))"
      ],
      "execution_count": null,
      "outputs": [
        {
          "output_type": "execute_result",
          "data": {
            "text/plain": [
              "5.57"
            ]
          },
          "metadata": {},
          "execution_count": 6
        }
      ]
    },
    {
      "cell_type": "markdown",
      "metadata": {
        "id": "i1tOL1-7DHWk"
      },
      "source": [
        "Bài 3"
      ]
    },
    {
      "cell_type": "code",
      "metadata": {
        "id": "JNDvT-juerzc",
        "outputId": "fa6f7bb0-7373-466d-94c6-b6e8c843b546",
        "colab": {
          "base_uri": "https://localhost:8080/"
        }
      },
      "source": [
        "def triple(num): \n",
        "  return num * 3\n",
        "triple(3)"
      ],
      "execution_count": 4,
      "outputs": [
        {
          "output_type": "execute_result",
          "data": {
            "text/plain": [
              "9"
            ]
          },
          "metadata": {},
          "execution_count": 4
        }
      ]
    },
    {
      "cell_type": "markdown",
      "metadata": {
        "id": "iqZyFEqTcwS5"
      },
      "source": [
        "Bài 4"
      ]
    },
    {
      "cell_type": "code",
      "metadata": {
        "id": "4FVaN6FPc4Hq",
        "outputId": "b0db0c88-8077-4efb-f83e-744e42f7e389",
        "colab": {
          "base_uri": "https://localhost:8080/"
        }
      },
      "source": [
        "def absolute_difference(number1, number2):\n",
        "  return abs(number1 - number2)\n",
        "absolute_difference(3, 7)"
      ],
      "execution_count": 3,
      "outputs": [
        {
          "output_type": "execute_result",
          "data": {
            "text/plain": [
              "4"
            ]
          },
          "metadata": {},
          "execution_count": 3
        }
      ]
    },
    {
      "cell_type": "markdown",
      "metadata": {
        "id": "HcJvG8muezHL"
      },
      "source": [
        "Bài 5"
      ]
    },
    {
      "cell_type": "code",
      "metadata": {
        "id": "x4ykyRhWe0e5",
        "outputId": "ca3708ac-7974-409e-9eb1-d28a1e052833",
        "colab": {
          "base_uri": "https://localhost:8080/"
        }
      },
      "source": [
        "def km_to_miles(km):\n",
        "  return km / 1.6\n",
        "km_to_miles(5)"
      ],
      "execution_count": 2,
      "outputs": [
        {
          "output_type": "execute_result",
          "data": {
            "text/plain": [
              "3.125"
            ]
          },
          "metadata": {},
          "execution_count": 2
        }
      ]
    },
    {
      "cell_type": "markdown",
      "metadata": {
        "id": "c77nKN5Ne6SW"
      },
      "source": [
        "Bài 6"
      ]
    },
    {
      "cell_type": "code",
      "metadata": {
        "id": "5-gXzyyTc25c",
        "outputId": "1c5c1859-fd5d-4b8b-f574-e92542c9f864",
        "colab": {
          "base_uri": "https://localhost:8080/"
        }
      },
      "source": [
        "\n",
        "def average_grade(grade1, grade2, grade3):\n",
        "  return (grade1 + grade2 + grade3) / 3\n",
        "average_grade(80, 95, 90)"
      ],
      "execution_count": 1,
      "outputs": [
        {
          "output_type": "execute_result",
          "data": {
            "text/plain": [
              "88.33333333333333"
            ]
          },
          "metadata": {},
          "execution_count": 1
        }
      ]
    }
  ]
}