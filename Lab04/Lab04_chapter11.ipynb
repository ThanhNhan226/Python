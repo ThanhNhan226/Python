{
  "nbformat": 4,
  "nbformat_minor": 0,
  "metadata": {
    "colab": {
      "name": "Lab04_chapter11.ipynb",
      "provenance": [],
      "authorship_tag": "ABX9TyPyMuRIDZOXlvglpu/uVg5M",
      "include_colab_link": true
    },
    "kernelspec": {
      "name": "python3",
      "display_name": "Python 3"
    },
    "language_info": {
      "name": "python"
    }
  },
  "cells": [
    {
      "cell_type": "markdown",
      "metadata": {
        "id": "view-in-github",
        "colab_type": "text"
      },
      "source": [
        "<a href=\"https://colab.research.google.com/github/ThanhNhan226/Python/blob/main/Lab04/Lab04_chapter11.ipynb\" target=\"_parent\"><img src=\"https://colab.research.google.com/assets/colab-badge.svg\" alt=\"Open In Colab\"/></a>"
      ]
    },
    {
      "cell_type": "markdown",
      "metadata": {
        "id": "8E2txB-Oca1t"
      },
      "source": [
        "Bài 1"
      ]
    },
    {
      "cell_type": "code",
      "metadata": {
        "colab": {
          "base_uri": "https://localhost:8080/"
        },
        "id": "iYdOpZrXcVwz",
        "outputId": "538f20a2-2959-4bde-a1ee-fd0a1b65e6df"
      },
      "source": [
        "def find_dups(L):\n",
        "    elem_set = set()\n",
        "    dups_set = set()\n",
        "    for entry in L:\n",
        "        len_initial = len(elem_set)\n",
        "        elem_set.add(entry)\n",
        "        len_after = len(elem_set)\n",
        "        if len_initial == len_after:\n",
        "            dups_set.add(entry)\n",
        "    return(dups_set)\n",
        "list_integers = [1,1,2,2,3,3,4,5,6,7,8,9]\n",
        "find_dups(list_integers)"
      ],
      "execution_count": 1,
      "outputs": [
        {
          "output_type": "execute_result",
          "data": {
            "text/plain": [
              "{1, 2, 3}"
            ]
          },
          "metadata": {},
          "execution_count": 1
        }
      ]
    },
    {
      "cell_type": "markdown",
      "metadata": {
        "id": "n__ty5ncdhZV"
      },
      "source": [
        "Bài 2"
      ]
    },
    {
      "cell_type": "code",
      "metadata": {
        "colab": {
          "base_uri": "https://localhost:8080/",
          "height": 238
        },
        "id": "fLh-w6DRdMBS",
        "outputId": "cbb7ec7f-0195-4725-e7e5-3e8a4d16912e"
      },
      "source": [
        "def read_molecule(reader):\n",
        "    \n",
        "    line = reader.readline()\n",
        "    if not line:\n",
        "        return None\n",
        "\n",
        "    key, name = line.split()\n",
        "\n",
        "    molecule = [name]\n",
        "    line = reader.readline()\n",
        "    \n",
        "   \n",
        "    while not line.startswith('END'):\n",
        "        key, num, atom_type, x, y, z = line.split()\n",
        "        molecule.append([atom_type, x, y, z])\n",
        "        line = reader.readline()\n",
        "    return molecule\n",
        "\n",
        "def read_all_molecules(reader):\n",
        "    result = []\n",
        "    reading = True\n",
        "    while reading:\n",
        "        molecule = read_molecule(reader)\n",
        "        if molecule: \n",
        "            result.append(molecule)\n",
        "        else:\n",
        "            reading = False\n",
        "    return result\n",
        "if __name__ == \"__main__\":\n",
        "    molecule_file = open('multimol.pdb','r')\n",
        "    molecules = read_all_molecules(molecule_file)\n",
        "    print(molecules)"
      ],
      "execution_count": 2,
      "outputs": [
        {
          "output_type": "error",
          "ename": "FileNotFoundError",
          "evalue": "ignored",
          "traceback": [
            "\u001b[0;31m---------------------------------------------------------------------------\u001b[0m",
            "\u001b[0;31mFileNotFoundError\u001b[0m                         Traceback (most recent call last)",
            "\u001b[0;32m<ipython-input-2-12a32bc5e378>\u001b[0m in \u001b[0;36m<module>\u001b[0;34m()\u001b[0m\n\u001b[1;32m     28\u001b[0m     \u001b[0;32mreturn\u001b[0m \u001b[0mresult\u001b[0m\u001b[0;34m\u001b[0m\u001b[0;34m\u001b[0m\u001b[0m\n\u001b[1;32m     29\u001b[0m \u001b[0;32mif\u001b[0m \u001b[0m__name__\u001b[0m \u001b[0;34m==\u001b[0m \u001b[0;34m\"__main__\"\u001b[0m\u001b[0;34m:\u001b[0m\u001b[0;34m\u001b[0m\u001b[0;34m\u001b[0m\u001b[0m\n\u001b[0;32m---> 30\u001b[0;31m     \u001b[0mmolecule_file\u001b[0m \u001b[0;34m=\u001b[0m \u001b[0mopen\u001b[0m\u001b[0;34m(\u001b[0m\u001b[0;34m'multimol.pdb'\u001b[0m\u001b[0;34m,\u001b[0m\u001b[0;34m'r'\u001b[0m\u001b[0;34m)\u001b[0m\u001b[0;34m\u001b[0m\u001b[0;34m\u001b[0m\u001b[0m\n\u001b[0m\u001b[1;32m     31\u001b[0m     \u001b[0mmolecules\u001b[0m \u001b[0;34m=\u001b[0m \u001b[0mread_all_molecules\u001b[0m\u001b[0;34m(\u001b[0m\u001b[0mmolecule_file\u001b[0m\u001b[0;34m)\u001b[0m\u001b[0;34m\u001b[0m\u001b[0;34m\u001b[0m\u001b[0m\n\u001b[1;32m     32\u001b[0m     \u001b[0mprint\u001b[0m\u001b[0;34m(\u001b[0m\u001b[0mmolecules\u001b[0m\u001b[0;34m)\u001b[0m\u001b[0;34m\u001b[0m\u001b[0;34m\u001b[0m\u001b[0m\n",
            "\u001b[0;31mFileNotFoundError\u001b[0m: [Errno 2] No such file or directory: 'multimol.pdb'"
          ]
        }
      ]
    },
    {
      "cell_type": "markdown",
      "metadata": {
        "id": "VEIPDsY_djHu"
      },
      "source": [
        "Bài 3"
      ]
    },
    {
      "cell_type": "code",
      "metadata": {
        "colab": {
          "base_uri": "https://localhost:8080/"
        },
        "id": "hESTfjmydL_P",
        "outputId": "69ad2fdc-30b9-493b-bcd6-8ee8865b27ac"
      },
      "source": [
        "def mating_pairs(males, females):\n",
        "    try:\n",
        "        pairs = set()\n",
        "        num_gerbils = len(males)\n",
        "        for i in range(num_gerbils):\n",
        "            male = males.pop()\n",
        "            female = females.pop()\n",
        "            pairs.add((male, female),)\n",
        "        return pairs\n",
        "    except:\n",
        "        return print(\"Số lượng Males và Females phải bằng nhau\")\n",
        "males = {'Nam1', 'Nam2', 'Nam3'}\n",
        "females = {'Nu1', 'Nu2', 'Nu3'}\n",
        "mating_pairs(males, females)"
      ],
      "execution_count": 3,
      "outputs": [
        {
          "output_type": "execute_result",
          "data": {
            "text/plain": [
              "{('Nam1', 'Nu3'), ('Nam2', 'Nu2'), ('Nam3', 'Nu1')}"
            ]
          },
          "metadata": {},
          "execution_count": 3
        }
      ]
    },
    {
      "cell_type": "markdown",
      "metadata": {
        "id": "a6hes0-Rdki9"
      },
      "source": [
        "Bài 4"
      ]
    },
    {
      "cell_type": "code",
      "metadata": {
        "id": "qWZeUPWMdL8b"
      },
      "source": [
        "def get_authors(filenames):\n",
        "    authors = set()\n",
        "    for filename in filenames:\n",
        "        for line in open(filename,'r'):\n",
        "            if line.lower().startswith('author'):\n",
        "                author = line[6:].strip()\n",
        "                authors.add(author)\n",
        "    return authors\n",
        "if __name__ == \"__main__\":\n",
        "    list_file = ['PDB_1.pdb','PDB_2.pdb']\n",
        "    print(get_authors(list_file))"
      ],
      "execution_count": null,
      "outputs": []
    }
  ]
}